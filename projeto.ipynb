{
 "cells": [
  {
   "cell_type": "markdown",
   "id": "6066c75a",
   "metadata": {},
   "source": [
    "# Projeto 2, C209"
   ]
  },
  {
   "cell_type": "markdown",
   "id": "e4131f46",
   "metadata": {},
   "source": [
    "###### Maria Clara Ribeiro Ignácio, GEC"
   ]
  },
  {
   "cell_type": "markdown",
   "id": "99418e1a",
   "metadata": {},
   "source": [
    "### Importando as bibliotecas"
   ]
  },
  {
   "cell_type": "code",
   "execution_count": 1,
   "id": "e1b538c9",
   "metadata": {},
   "outputs": [],
   "source": [
    "import numpy as np\n",
    "import matplotlib.pyplot as plt\n",
    "\n",
    "# biblioteca para manipulação de vídeo\n",
    "import moviepy.editor as mpe \n",
    "# comando a seguir importa tudo que é necessário para edição de vídeo\n",
    "from moviepy.editor import *\n",
    "\n",
    "# bibliotecas para manipulação de áudio\n",
    "from scipy.io import wavfile\n",
    "import sounddevice as sd"
   ]
  },
  {
   "cell_type": "markdown",
   "id": "0582560f",
   "metadata": {},
   "source": [
    "### q1. Gravando áudio e escolhendo vídeo"
   ]
  },
  {
   "cell_type": "markdown",
   "id": "22dcecbc",
   "metadata": {},
   "source": [
    "#### q1.1. Importando vídeo"
   ]
  },
  {
   "cell_type": "code",
   "execution_count": 2,
   "id": "039339b2",
   "metadata": {},
   "outputs": [
    {
     "name": "stdout",
     "output_type": "stream",
     "text": [
      "Tamanho: [640, 480]\n",
      "FPS: 30.0\n",
      "Duração: 128.73 segundos\n",
      "Número de frames: 3862\n"
     ]
    }
   ],
   "source": [
    "# comando para importação e demonstrado arquivo de vídeo\n",
    "video = mpe.VideoFileClip(\"baseball.mp4\")\n",
    "\n",
    "# reprodução do vídeo\n",
    "## video.ipython_display(width=500, maxduration=140)\n",
    "\n",
    "print('Tamanho:', video.size) ## ou video.h e video.w\n",
    "print('FPS:', video.fps)\n",
    "print('Duração:', video.duration, 'segundos')\n",
    "print('Número de frames:', video.reader.nframes)"
   ]
  },
  {
   "cell_type": "markdown",
   "id": "5e124d8e",
   "metadata": {},
   "source": [
    "#### q1.2. Importando áudio"
   ]
  },
  {
   "cell_type": "code",
   "execution_count": 3,
   "id": "7c7392c2",
   "metadata": {},
   "outputs": [
    {
     "name": "stdout",
     "output_type": "stream",
     "text": [
      "Canais: (5582708, 2)\n",
      "Número de amostras: 5582708\n",
      "Profundidade de bits: int16\n",
      "Taxa de Amostragem: 44100\n",
      "Taxa de bits: 352800\n"
     ]
    }
   ],
   "source": [
    "# comando para importar áudio\n",
    "fs, data = wavfile.read(\"leitura.wav\")\n",
    "# reprodução do áudio\n",
    "sd.play(data, fs)\n",
    "# parar áudio\n",
    "sd.stop()\n",
    "\n",
    "print(\"Canais:\", data.shape)\n",
    "print(\"Número de amostras:\", data.shape[0])\n",
    "print(\"Profundidade de bits:\", data.dtype)\n",
    "print(\"Taxa de Amostragem:\", fs)\n",
    "print(\"Taxa de bits:\", 8 * fs * 1)"
   ]
  },
  {
   "cell_type": "markdown",
   "id": "32d892b8",
   "metadata": {},
   "source": [
    "#### q1.3. Unindo áudio com vídeo"
   ]
  },
  {
   "cell_type": "code",
   "execution_count": null,
   "id": "a79796ab",
   "metadata": {},
   "outputs": [],
   "source": [
    "from moviepy.editor import VideoFileClip, AudioFileClip\n",
    "\n",
    "video = VideoFileClip(\"baseball.mp4\")\n",
    "audio = AudioFileClip(\"leitura.wav\")\n",
    "\n",
    "# unindo leitura do texto com vídeo escolhido\n",
    "video_e_audio = video.set_audio(audio)\n",
    "video_e_audio.write_videofile(\"video_e_audio.mp4\")\n",
    "video_e_audio.ipython_display(width=500, maxduration=140)\n"
   ]
  },
  {
   "cell_type": "markdown",
   "id": "d1aa084f",
   "metadata": {},
   "source": [
    "### q2. Inverter imagem no eixo a cada 20 segundos"
   ]
  },
  {
   "cell_type": "code",
   "execution_count": 5,
   "id": "031aeff8",
   "metadata": {},
   "outputs": [
    {
     "name": "stdout",
     "output_type": "stream",
     "text": [
      "Moviepy - Building video video_q2.mp4.\n",
      "MoviePy - Writing audio in video_q2TEMP_MPY_wvf_snd.mp3\n"
     ]
    },
    {
     "name": "stderr",
     "output_type": "stream",
     "text": [
      "                                                                      \r"
     ]
    },
    {
     "name": "stdout",
     "output_type": "stream",
     "text": [
      "MoviePy - Done.\n",
      "Moviepy - Writing video video_q2.mp4\n",
      "\n"
     ]
    },
    {
     "name": "stderr",
     "output_type": "stream",
     "text": [
      "                                                                 \r"
     ]
    },
    {
     "name": "stdout",
     "output_type": "stream",
     "text": [
      "Moviepy - Done !\n",
      "Moviepy - video ready video_q2.mp4\n"
     ]
    }
   ],
   "source": [
    "clipe = VideoFileClip(\"video_e_audio.mp4\")\n",
    "# inversões realizadas no eixo x para mudanças ficarem mais aparentes no vídeo\n",
    "# a função do moviepy interpreta como f(x) sendo o vídeo original, e g(x) = -f(x) como resultado da inversão\n",
    "\n",
    "# de 0 a 20 segundos, sem inversão no eixo\n",
    "clipe1 = clipe.subclip(0, 20)\n",
    "\n",
    "# de 20 a 40 segundos, inverte\n",
    "clipe2_esp = clipe.subclip(20, 40)\n",
    "clipe2_esp = clipe2_esp.fx(vfx.mirror_y)\n",
    "\n",
    "# de 40 a 60 segundos, sem inversão no eixo\n",
    "clipe3 = clipe.subclip(40, 60)\n",
    "\n",
    "# de 60 a 80 segundos, inverte\n",
    "clipe4_esp = clipe.subclip(60, 80)\n",
    "clipe4_esp = clipe4_esp.fx(vfx.mirror_y)\n",
    "\n",
    "# de 80 a 100 segundos, sem inversão no eixo\n",
    "clipe5 = clipe.subclip(80, 100)\n",
    "\n",
    "# de 100 a 120 segundos, inverte\n",
    "clipe6_esp = clipe.subclip(100, 120)\n",
    "clipe6_esp = clipe6_esp.fx(vfx.mirror_y)\n",
    "\n",
    "# de 120 ao final do vídeo, sem inversão no eixo\n",
    "clipe7 = clipe.subclip(120)\n",
    "\n",
    "# juntando os trechos em um único vídeo\n",
    "video_com_espelhamentos = mpe.concatenate_videoclips([clipe1, clipe2_esp, clipe3, clipe4_esp, clipe5, clipe6_esp, clipe7])\n",
    "video_com_espelhamentos.write_videofile(\"video_q2.mp4\")\n"
   ]
  },
  {
   "cell_type": "code",
   "execution_count": null,
   "id": "9c08a28f",
   "metadata": {},
   "outputs": [],
   "source": [
    "# video_com_espelhamentos.ipython_display(width=500, maxduration=140)"
   ]
  },
  {
   "cell_type": "markdown",
   "id": "2d90abc0",
   "metadata": {},
   "source": [
    "### q3. Diminuir o som de forma gradativa a cada 30 segundos, sendo os 10 últimos segundos do vídeo sem som"
   ]
  },
  {
   "cell_type": "code",
   "execution_count": 19,
   "id": "6b2f7144",
   "metadata": {},
   "outputs": [
    {
     "name": "stderr",
     "output_type": "stream",
     "text": [
      "t:  80%|████████  | 3104/3862 [00:55<00:02, 341.97it/s, now=None]"
     ]
    },
    {
     "name": "stdout",
     "output_type": "stream",
     "text": [
      "Moviepy - Building video video_q3.mp4.\n",
      "MoviePy - Writing audio in video_q3TEMP_MPY_wvf_snd.mp3\n"
     ]
    },
    {
     "name": "stderr",
     "output_type": "stream",
     "text": [
      "t:  80%|████████  | 3104/3862 [00:57<00:02, 341.97it/s, now=None]"
     ]
    },
    {
     "name": "stdout",
     "output_type": "stream",
     "text": [
      "MoviePy - Done.\n",
      "Moviepy - Writing video video_q3.mp4\n",
      "\n"
     ]
    },
    {
     "name": "stderr",
     "output_type": "stream",
     "text": [
      "t:  80%|████████  | 3104/3862 [01:14<00:02, 341.97it/s, now=None]"
     ]
    },
    {
     "name": "stdout",
     "output_type": "stream",
     "text": [
      "Moviepy - Done !\n",
      "Moviepy - video ready video_q3.mp4\n"
     ]
    }
   ],
   "source": [
    "def decrease(audio, t):\n",
    "    frame = audio(t)\n",
    "\n",
    "    blocos_total = video_com_espelhamentos.duration // 30 \n",
    "    tempo = t if isinstance(t, (int, float)) else t[0]\n",
    "    bloco_atual = tempo // 30  \n",
    "    tempo_restante = video_com_espelhamentos.duration - tempo\n",
    "\n",
    "    if tempo_restante > 10:\n",
    "        vol = 1 - (bloco_atual / blocos_total)\n",
    "    else:\n",
    "        vol = 0.0  # mudo nos últimos 10s\n",
    "\n",
    "    frame[:, 0] *= vol\n",
    "    frame[:, 1] *= vol\n",
    "    return frame\n",
    "\n",
    "decrease_do_audio = video_com_espelhamentos.audio.fl(decrease)\n",
    "video_com_decrease = video_com_espelhamentos.set_audio(decrease_do_audio)\n",
    "video_com_decrease.write_videofile(\"video_q3.mp4\")"
   ]
  },
  {
   "cell_type": "code",
   "execution_count": null,
   "id": "cdb14833",
   "metadata": {},
   "outputs": [],
   "source": [
    "# video_com_decrease.ipython_display(width=500, maxduration=140)"
   ]
  },
  {
   "cell_type": "markdown",
   "id": "0daf8f13",
   "metadata": {},
   "source": [
    "### q4. Após o primeiro minuto, fazer corte para o segundo 80 do vídeo"
   ]
  },
  {
   "cell_type": "code",
   "execution_count": 28,
   "id": "32c68b8d",
   "metadata": {},
   "outputs": [
    {
     "name": "stderr",
     "output_type": "stream",
     "text": [
      "t:  80%|████████  | 3104/3862 [12:41:10<00:02, 341.97it/s, now=None]"
     ]
    },
    {
     "name": "stdout",
     "output_type": "stream",
     "text": [
      "Moviepy - Building video video_q4.mp4.\n",
      "MoviePy - Writing audio in video_q4TEMP_MPY_wvf_snd.mp3\n"
     ]
    },
    {
     "name": "stderr",
     "output_type": "stream",
     "text": [
      "t:  80%|████████  | 3104/3862 [12:41:12<00:02, 341.97it/s, now=None]"
     ]
    },
    {
     "name": "stdout",
     "output_type": "stream",
     "text": [
      "MoviePy - Done.\n",
      "Moviepy - Writing video video_q4.mp4\n",
      "\n"
     ]
    },
    {
     "name": "stderr",
     "output_type": "stream",
     "text": [
      "t:  80%|████████  | 3104/3862 [12:41:28<00:02, 341.97it/s, now=None]"
     ]
    },
    {
     "name": "stdout",
     "output_type": "stream",
     "text": [
      "Moviepy - Done !\n",
      "Moviepy - video ready video_q4.mp4\n"
     ]
    }
   ],
   "source": [
    "corte1 = video_com_decrease.subclip(0, 60)\n",
    "corte2 = video_com_decrease.subclip(80)\n",
    "\n",
    "video_sem_corte = mpe.concatenate_videoclips([corte1, corte2])\n",
    "video_sem_corte.write_videofile(\"video_q4.mp4\")\n"
   ]
  },
  {
   "cell_type": "code",
   "execution_count": null,
   "id": "332da71b",
   "metadata": {},
   "outputs": [],
   "source": [
    "# video_sem_corte.ipython_display(width=500, maxduration=140)"
   ]
  },
  {
   "cell_type": "markdown",
   "id": "fcd620e9",
   "metadata": {},
   "source": [
    "### q5. Inserir os 20 segundos cortados anteriormente no final do vídeo"
   ]
  },
  {
   "cell_type": "code",
   "execution_count": 29,
   "id": "b4bd5bf3",
   "metadata": {},
   "outputs": [
    {
     "name": "stderr",
     "output_type": "stream",
     "text": [
      "t:  80%|████████  | 3104/3862 [12:41:31<00:02, 341.97it/s, now=None]"
     ]
    },
    {
     "name": "stdout",
     "output_type": "stream",
     "text": [
      "Moviepy - Building video video_q5.mp4.\n",
      "MoviePy - Writing audio in video_q5TEMP_MPY_wvf_snd.mp3\n"
     ]
    },
    {
     "name": "stderr",
     "output_type": "stream",
     "text": [
      "t:  80%|████████  | 3104/3862 [12:41:33<00:02, 341.97it/s, now=None]"
     ]
    },
    {
     "name": "stdout",
     "output_type": "stream",
     "text": [
      "MoviePy - Done.\n",
      "Moviepy - Writing video video_q5.mp4\n",
      "\n"
     ]
    },
    {
     "name": "stderr",
     "output_type": "stream",
     "text": [
      "t:  80%|████████  | 3104/3862 [12:41:53<00:02, 341.97it/s, now=None]"
     ]
    },
    {
     "name": "stdout",
     "output_type": "stream",
     "text": [
      "Moviepy - Done !\n",
      "Moviepy - video ready video_q5.mp4\n"
     ]
    }
   ],
   "source": [
    "corte3 = video_com_decrease.subclip(60, 80)\n",
    "video_com_corte = mpe.concatenate_videoclips([video_sem_corte, corte3])\n",
    "\n",
    "video_com_corte.write_videofile(\"video_q5.mp4\")"
   ]
  },
  {
   "cell_type": "code",
   "execution_count": null,
   "id": "dbbbd945",
   "metadata": {},
   "outputs": [],
   "source": [
    "# video_com_corte.ipython_display(width=500, maxduration=140)"
   ]
  },
  {
   "cell_type": "markdown",
   "id": "230a90bb",
   "metadata": {},
   "source": [
    "#### 6. Referências:\n",
    "q2:\n",
    "1. https://www.geeksforgeeks.org/moviepy-mirroring-video-file-clip-for-y-axis/\n",
    "2. https://zulko.github.io/moviepy/user_guide/modifying.html"
   ]
  }
 ],
 "metadata": {
  "kernelspec": {
   "display_name": "Python 3",
   "language": "python",
   "name": "python3"
  },
  "language_info": {
   "codemirror_mode": {
    "name": "ipython",
    "version": 3
   },
   "file_extension": ".py",
   "mimetype": "text/x-python",
   "name": "python",
   "nbconvert_exporter": "python",
   "pygments_lexer": "ipython3",
   "version": "3.10.3"
  }
 },
 "nbformat": 4,
 "nbformat_minor": 5
}
